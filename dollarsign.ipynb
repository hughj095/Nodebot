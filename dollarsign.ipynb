{
  "nbformat": 4,
  "nbformat_minor": 0,
  "metadata": {
    "colab": {
      "provenance": [],
      "authorship_tag": "ABX9TyNCq+5DyNCeMuW8dnAtw5SO",
      "include_colab_link": true
    },
    "kernelspec": {
      "name": "python3",
      "display_name": "Python 3"
    },
    "language_info": {
      "name": "python"
    }
  },
  "cells": [
    {
      "cell_type": "markdown",
      "metadata": {
        "id": "view-in-github",
        "colab_type": "text"
      },
      "source": [
        "<a href=\"https://colab.research.google.com/github/hughj095/Nodebot/blob/main/dollarsign.ipynb\" target=\"_parent\"><img src=\"https://colab.research.google.com/assets/colab-badge.svg\" alt=\"Open In Colab\"/></a>"
      ]
    },
    {
      "cell_type": "code",
      "execution_count": 5,
      "metadata": {
        "colab": {
          "base_uri": "https://localhost:8080/"
        },
        "id": "EWzqE82a_pQ2",
        "outputId": "65265daa-0588-4c5a-a2a1-27202b499f31"
      },
      "outputs": [
        {
          "output_type": "stream",
          "name": "stdout",
          "text": [
            "     Temperature  Ice Cream Profits\n",
            "0             39              13.17\n",
            "1             40              11.88\n",
            "2             41              18.82\n",
            "3             42              18.65\n",
            "4             43              17.02\n",
            "..           ...                ...\n",
            "360           99              85.13\n",
            "361           99              87.08\n",
            "362           99              89.29\n",
            "363          101              81.91\n",
            "364          101              85.02\n",
            "\n",
            "[365 rows x 2 columns]\n"
          ]
        }
      ],
      "source": [
        "import pandas as pd\n",
        "\n",
        "# Read the CSV file into a DataFrame\n",
        "df = pd.read_csv('data.csv')\n",
        "\n",
        "# Print the DataFrame\n",
        "print(df)"
      ]
    },
    {
      "cell_type": "code",
      "source": [
        "df['Ice Cream Profits'] = df['Ice Cream Profits'].apply(lambda x: '${:.2f}'.format(x))\n",
        "print(df)"
      ],
      "metadata": {
        "colab": {
          "base_uri": "https://localhost:8080/"
        },
        "id": "t1rhF6obAMHv",
        "outputId": "6cabea83-5860-4907-ec65-8b40c2b4c98d"
      },
      "execution_count": 6,
      "outputs": [
        {
          "output_type": "stream",
          "name": "stdout",
          "text": [
            "     Temperature Ice Cream Profits\n",
            "0             39            $13.17\n",
            "1             40            $11.88\n",
            "2             41            $18.82\n",
            "3             42            $18.65\n",
            "4             43            $17.02\n",
            "..           ...               ...\n",
            "360           99            $85.13\n",
            "361           99            $87.08\n",
            "362           99            $89.29\n",
            "363          101            $81.91\n",
            "364          101            $85.02\n",
            "\n",
            "[365 rows x 2 columns]\n"
          ]
        }
      ]
    }
  ]
}